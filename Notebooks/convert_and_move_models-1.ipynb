{
 "cells": [
  {
   "cell_type": "code",
   "execution_count": 1,
   "id": "e64ac906",
   "metadata": {},
   "outputs": [
    {
     "name": "stderr",
     "output_type": "stream",
     "text": [
      "c:\\ProgramData\\anaconda3\\envs\\AI_env_P7_gpu\\lib\\site-packages\\tensorflow_hub\\__init__.py:61: UserWarning: pkg_resources is deprecated as an API. See https://setuptools.pypa.io/en/latest/pkg_resources.html. The pkg_resources package is slated for removal as early as 2025-11-30. Refrain from using this package or pin to Setuptools<81.\n",
      "  from pkg_resources import parse_version\n"
     ]
    },
    {
     "name": "stdout",
     "output_type": "stream",
     "text": [
      "2.10.1\n",
      "Num GPUs Available:  1\n",
      "GPUs disponibles : [PhysicalDevice(name='/physical_device:GPU:0', device_type='GPU')]\n",
      "Version TF : 2.10.1\n"
     ]
    },
    {
     "name": "stderr",
     "output_type": "stream",
     "text": [
      "c:\\ProgramData\\anaconda3\\envs\\AI_env_P7_gpu\\lib\\site-packages\\tqdm\\auto.py:21: TqdmWarning: IProgress not found. Please update jupyter and ipywidgets. See https://ipywidgets.readthedocs.io/en/stable/user_install.html\n",
      "  from .autonotebook import tqdm as notebook_tqdm\n"
     ]
    }
   ],
   "source": [
    "import tensorflow as tf\n",
    "import numpy as np\n",
    "import pandas as pd\n",
    "from tensorflow.keras.layers import TextVectorization, Embedding, SimpleRNN, Dense, LSTM, Flatten\n",
    "from tensorflow.keras.preprocessing.text import Tokenizer\n",
    "from tensorflow.keras.preprocessing.sequence import pad_sequences\n",
    "from tensorflow.keras.callbacks import EarlyStopping, ModelCheckpoint, ReduceLROnPlateau\n",
    "from tensorflow.keras.optimizers import Adam\n",
    "\n",
    "from sklearn.model_selection import train_test_split\n",
    "import gensim.downloader as gensim_downloader\n",
    "import gensim\n",
    "import multiprocessing\n",
    "from mlflow import MlflowClient\n",
    "import mlflow\n",
    "import pandas as pd\n",
    "import seaborn as sns\n",
    "import matplotlib.pyplot as plt\n",
    "from sklearn.model_selection import train_test_split\n",
    "import os\n",
    "from joblib import Parallel, delayed\n",
    "from Source.preprocess_data import *  ## import all functions from preprocess_data.py\n",
    "from Source.postprocess_data import * ## import all functions from postprocess_data.py\n",
    "from Source.utils import *  ## import all functions from utils.py\n",
    "import nltk\n",
    "import optuna\n",
    "\n",
    "from sklearn.feature_extraction.text import CountVectorizer, TfidfVectorizer\n",
    "from sklearn.pipeline import Pipeline\n",
    "\n",
    "from sklearn.metrics import confusion_matrix \n",
    "from nltk.corpus import stopwords  \n",
    "from nltk.tokenize import TweetTokenizer, WordPunctTokenizer, RegexpTokenizer\n",
    "from nltk.stem import PorterStemmer, WordNetLemmatizer, LancasterStemmer, SnowballStemmer\n",
    "from tqdm import tqdm\n",
    "tqdm.pandas()\n",
    "os.environ['CUDA_VISIBLE_DEVICES'] = \"0\"\n",
    "\n",
    "nw = multiprocessing.cpu_count()\n",
    "\n",
    "\n",
    "\n",
    "client = MlflowClient(tracking_uri=\"http://localhost:8080\")\n",
    "os.environ[\"TF_KERAS\"]='1'\n",
    "print(tf.__version__)\n",
    "print(\"Num GPUs Available: \", len(tf.config.list_physical_devices('GPU')))\n",
    "print(\"GPUs disponibles :\", tf.config.list_physical_devices(\"GPU\"))\n",
    "print(\"Version TF :\", tf.__version__)"
   ]
  },
  {
   "cell_type": "code",
   "execution_count": 3,
   "id": "55070173",
   "metadata": {},
   "outputs": [
    {
     "name": "stdout",
     "output_type": "stream",
     "text": [
      "Modèle exporté dans : exp_models\\log_regression_model_opt\n"
     ]
    }
   ],
   "source": [
    "import mlflow\n",
    "import os\n",
    "\n",
    "# Choisir le dossier local où enregistrer le modèle\n",
    "export_path = os.path.join(\"exp_models\", \"log_regression_model_opt\")\n",
    "os.makedirs(export_path, exist_ok=True)\n",
    "\n",
    "# URI du modèle dans le registry, version 1\n",
    "model_uri = \"models:/log_regression_model_opt/1\"\n",
    "\n",
    "# Charger et sauvegarder le modèle localement\n",
    "mlflow.sklearn.save_model(mlflow.sklearn.load_model(model_uri),\n",
    "    path=export_path\n",
    ")\n",
    "\n",
    "print(f\"Modèle exporté dans : {export_path}\")"
   ]
  },
  {
   "cell_type": "code",
   "execution_count": 5,
   "id": "50a26ad1",
   "metadata": {},
   "outputs": [
    {
     "name": "stderr",
     "output_type": "stream",
     "text": [
      "WARNING:absl:Found untraced functions such as lstm_cell_1_layer_call_fn, lstm_cell_1_layer_call_and_return_conditional_losses while saving (showing 2 of 2). These functions will not be directly callable after loading.\n"
     ]
    },
    {
     "name": "stdout",
     "output_type": "stream",
     "text": [
      "INFO:tensorflow:Assets written to: exp_models\\Best_LSTM_model\\assets\n"
     ]
    },
    {
     "name": "stderr",
     "output_type": "stream",
     "text": [
      "INFO:tensorflow:Assets written to: exp_models\\Best_LSTM_model\\assets\n"
     ]
    },
    {
     "name": "stdout",
     "output_type": "stream",
     "text": [
      "Modèle exporté dans : exp_models\\Best_LSTM_model\n"
     ]
    }
   ],
   "source": [
    "import mlflow.tensorflow\n",
    "import os\n",
    "\n",
    "model_uri = \"models:/Best_LSTM_model/1\"\n",
    "export_path = os.path.join(\"exp_models\", \"Best_LSTM_model\")\n",
    "os.makedirs(export_path, exist_ok=True)\n",
    "\n",
    "# Charger le modèle depuis le registry\n",
    "model = mlflow.tensorflow.load_model(model_uri)\n",
    "\n",
    "# Sauvegarder localement au format TensorFlow SavedModel\n",
    "import tensorflow as tf\n",
    "tf.keras.models.save_model(model, export_path)\n",
    "\n",
    "print(f\"Modèle exporté dans : {export_path}\")"
   ]
  },
  {
   "cell_type": "code",
   "execution_count": 6,
   "id": "724430fb",
   "metadata": {},
   "outputs": [
    {
     "ename": "ValueError",
     "evalue": "The two structures don't have the same nested structure.\n\nFirst structure: type=tuple str=(({'attention_mask': TensorSpec(shape=(None, None), dtype=tf.int32, name=None), 'input_ids': TensorSpec(shape=(None, None), dtype=tf.int32, name=None)}, None, None, None, None, None, None, None, None, None, None, None, None, False), {})\n\nSecond structure: type=tuple str=((TensorSpec(shape=(None, None), dtype=tf.int32, name='input_ids'), TensorSpec(shape=(None, None), dtype=tf.int32, name='attention_mask'), None, None, None, None, None, None, None, None, None, None, None, False), {})\n\nMore specifically: Substructure \"type=dict str={'attention_mask': TensorSpec(shape=(None, None), dtype=tf.int32, name=None), 'input_ids': TensorSpec(shape=(None, None), dtype=tf.int32, name=None)}\" is a sequence, while substructure \"type=TensorSpec str=TensorSpec(shape=(None, None), dtype=tf.int32, name='input_ids')\" is not\nEntire first structure:\n(({'attention_mask': ., 'input_ids': .}, ., ., ., ., ., ., ., ., ., ., ., ., .), {})\nEntire second structure:\n((., ., ., ., ., ., ., ., ., ., ., ., ., .), {})",
     "output_type": "error",
     "traceback": [
      "\u001b[1;31m---------------------------------------------------------------------------\u001b[0m",
      "\u001b[1;31mValueError\u001b[0m                                Traceback (most recent call last)",
      "Cell \u001b[1;32mIn[6], line 9\u001b[0m\n\u001b[0;32m      6\u001b[0m os\u001b[38;5;241m.\u001b[39mmakedirs(export_path, exist_ok\u001b[38;5;241m=\u001b[39m\u001b[38;5;28;01mTrue\u001b[39;00m)\n\u001b[0;32m      8\u001b[0m \u001b[38;5;66;03m# Charger le modèle depuis le registry\u001b[39;00m\n\u001b[1;32m----> 9\u001b[0m model \u001b[38;5;241m=\u001b[39m \u001b[43mmlflow\u001b[49m\u001b[38;5;241;43m.\u001b[39;49m\u001b[43mtensorflow\u001b[49m\u001b[38;5;241;43m.\u001b[39;49m\u001b[43mload_model\u001b[49m\u001b[43m(\u001b[49m\u001b[43mmodel_uri\u001b[49m\u001b[43m)\u001b[49m\n\u001b[0;32m     11\u001b[0m \u001b[38;5;66;03m# Sauvegarder localement au format TensorFlow SavedModel\u001b[39;00m\n\u001b[0;32m     12\u001b[0m \u001b[38;5;28;01mimport\u001b[39;00m\u001b[38;5;250m \u001b[39m\u001b[38;5;21;01mtensorflow\u001b[39;00m\u001b[38;5;250m \u001b[39m\u001b[38;5;28;01mas\u001b[39;00m\u001b[38;5;250m \u001b[39m\u001b[38;5;21;01mtf\u001b[39;00m\n",
      "File \u001b[1;32mc:\\ProgramData\\anaconda3\\envs\\AI_env_P7_gpu\\lib\\site-packages\\mlflow\\tensorflow\\__init__.py:648\u001b[0m, in \u001b[0;36mload_model\u001b[1;34m(model_uri, dst_path, saved_model_kwargs, keras_model_kwargs)\u001b[0m\n\u001b[0;32m    646\u001b[0m     save_format \u001b[38;5;241m=\u001b[39m flavor_conf\u001b[38;5;241m.\u001b[39mget(\u001b[38;5;124m\"\u001b[39m\u001b[38;5;124msave_format\u001b[39m\u001b[38;5;124m\"\u001b[39m, \u001b[38;5;124m\"\u001b[39m\u001b[38;5;124mh5\u001b[39m\u001b[38;5;124m\"\u001b[39m)\n\u001b[0;32m    647\u001b[0m     model_path \u001b[38;5;241m=\u001b[39m os\u001b[38;5;241m.\u001b[39mpath\u001b[38;5;241m.\u001b[39mjoin(local_model_path, flavor_conf\u001b[38;5;241m.\u001b[39mget(\u001b[38;5;124m\"\u001b[39m\u001b[38;5;124mdata\u001b[39m\u001b[38;5;124m\"\u001b[39m, _MODEL_SAVE_PATH))\n\u001b[1;32m--> 648\u001b[0m     \u001b[38;5;28;01mreturn\u001b[39;00m _load_keras_model(\n\u001b[0;32m    649\u001b[0m         model_path\u001b[38;5;241m=\u001b[39mmodel_path,\n\u001b[0;32m    650\u001b[0m         keras_module\u001b[38;5;241m=\u001b[39mkeras_module,\n\u001b[0;32m    651\u001b[0m         save_format\u001b[38;5;241m=\u001b[39msave_format,\n\u001b[0;32m    652\u001b[0m         \u001b[38;5;241m*\u001b[39m\u001b[38;5;241m*\u001b[39mkeras_model_kwargs,\n\u001b[0;32m    653\u001b[0m     )\n\u001b[0;32m    654\u001b[0m \u001b[38;5;28;01mif\u001b[39;00m model_type \u001b[38;5;241m==\u001b[39m _MODEL_TYPE_TF1_ESTIMATOR:\n\u001b[0;32m    655\u001b[0m     tf_saved_model_dir \u001b[38;5;241m=\u001b[39m os\u001b[38;5;241m.\u001b[39mpath\u001b[38;5;241m.\u001b[39mjoin(local_model_path, flavor_conf[\u001b[38;5;124m\"\u001b[39m\u001b[38;5;124msaved_model_dir\u001b[39m\u001b[38;5;124m\"\u001b[39m])\n",
      "File \u001b[1;32mc:\\ProgramData\\anaconda3\\envs\\AI_env_P7_gpu\\lib\\site-packages\\mlflow\\tensorflow\\__init__.py:582\u001b[0m, in \u001b[0;36m_load_keras_model\u001b[1;34m(model_path, keras_module, save_format, **kwargs)\u001b[0m\n\u001b[0;32m    579\u001b[0m         \u001b[38;5;28;01mreturn\u001b[39;00m keras_models\u001b[38;5;241m.\u001b[39mload_model(model_path, custom_objects\u001b[38;5;241m=\u001b[39mcustom_objects, \u001b[38;5;241m*\u001b[39m\u001b[38;5;241m*\u001b[39mkwargs)\n\u001b[0;32m    580\u001b[0m \u001b[38;5;28;01melse\u001b[39;00m:\n\u001b[0;32m    581\u001b[0m     \u001b[38;5;66;03m# NOTE: Older versions of Keras only handle filepath.\u001b[39;00m\n\u001b[1;32m--> 582\u001b[0m     \u001b[38;5;28;01mreturn\u001b[39;00m keras_models\u001b[38;5;241m.\u001b[39mload_model(model_path, custom_objects\u001b[38;5;241m=\u001b[39mcustom_objects, \u001b[38;5;241m*\u001b[39m\u001b[38;5;241m*\u001b[39mkwargs)\n",
      "File \u001b[1;32mc:\\ProgramData\\anaconda3\\envs\\AI_env_P7_gpu\\lib\\site-packages\\keras\\utils\\traceback_utils.py:70\u001b[0m, in \u001b[0;36mfilter_traceback.<locals>.error_handler\u001b[1;34m(*args, **kwargs)\u001b[0m\n\u001b[0;32m     67\u001b[0m     filtered_tb \u001b[38;5;241m=\u001b[39m _process_traceback_frames(e\u001b[38;5;241m.\u001b[39m__traceback__)\n\u001b[0;32m     68\u001b[0m     \u001b[38;5;66;03m# To get the full stack trace, call:\u001b[39;00m\n\u001b[0;32m     69\u001b[0m     \u001b[38;5;66;03m# `tf.debugging.disable_traceback_filtering()`\u001b[39;00m\n\u001b[1;32m---> 70\u001b[0m     \u001b[38;5;28;01mraise\u001b[39;00m e\u001b[38;5;241m.\u001b[39mwith_traceback(filtered_tb) \u001b[38;5;28;01mfrom\u001b[39;00m\u001b[38;5;250m \u001b[39m\u001b[38;5;28;01mNone\u001b[39;00m\n\u001b[0;32m     71\u001b[0m \u001b[38;5;28;01mfinally\u001b[39;00m:\n\u001b[0;32m     72\u001b[0m     \u001b[38;5;28;01mdel\u001b[39;00m filtered_tb\n",
      "File \u001b[1;32mc:\\ProgramData\\anaconda3\\envs\\AI_env_P7_gpu\\lib\\site-packages\\tensorflow\\python\\util\\nest.py:573\u001b[0m, in \u001b[0;36massert_same_structure\u001b[1;34m(nest1, nest2, check_types, expand_composites)\u001b[0m\n\u001b[0;32m    571\u001b[0m str1 \u001b[38;5;241m=\u001b[39m \u001b[38;5;28mstr\u001b[39m(map_structure(\u001b[38;5;28;01mlambda\u001b[39;00m _: _DOT, nest1))\n\u001b[0;32m    572\u001b[0m str2 \u001b[38;5;241m=\u001b[39m \u001b[38;5;28mstr\u001b[39m(map_structure(\u001b[38;5;28;01mlambda\u001b[39;00m _: _DOT, nest2))\n\u001b[1;32m--> 573\u001b[0m \u001b[38;5;28;01mraise\u001b[39;00m \u001b[38;5;28mtype\u001b[39m(e)(\u001b[38;5;124m\"\u001b[39m\u001b[38;5;132;01m%s\u001b[39;00m\u001b[38;5;130;01m\\n\u001b[39;00m\u001b[38;5;124m\"\u001b[39m\n\u001b[0;32m    574\u001b[0m               \u001b[38;5;124m\"\u001b[39m\u001b[38;5;124mEntire first structure:\u001b[39m\u001b[38;5;130;01m\\n\u001b[39;00m\u001b[38;5;132;01m%s\u001b[39;00m\u001b[38;5;130;01m\\n\u001b[39;00m\u001b[38;5;124m\"\u001b[39m\n\u001b[0;32m    575\u001b[0m               \u001b[38;5;124m\"\u001b[39m\u001b[38;5;124mEntire second structure:\u001b[39m\u001b[38;5;130;01m\\n\u001b[39;00m\u001b[38;5;132;01m%s\u001b[39;00m\u001b[38;5;124m\"\u001b[39m\n\u001b[0;32m    576\u001b[0m               \u001b[38;5;241m%\u001b[39m (\u001b[38;5;28mstr\u001b[39m(e), str1, str2))\n",
      "\u001b[1;31mValueError\u001b[0m: The two structures don't have the same nested structure.\n\nFirst structure: type=tuple str=(({'attention_mask': TensorSpec(shape=(None, None), dtype=tf.int32, name=None), 'input_ids': TensorSpec(shape=(None, None), dtype=tf.int32, name=None)}, None, None, None, None, None, None, None, None, None, None, None, None, False), {})\n\nSecond structure: type=tuple str=((TensorSpec(shape=(None, None), dtype=tf.int32, name='input_ids'), TensorSpec(shape=(None, None), dtype=tf.int32, name='attention_mask'), None, None, None, None, None, None, None, None, None, None, None, False), {})\n\nMore specifically: Substructure \"type=dict str={'attention_mask': TensorSpec(shape=(None, None), dtype=tf.int32, name=None), 'input_ids': TensorSpec(shape=(None, None), dtype=tf.int32, name=None)}\" is a sequence, while substructure \"type=TensorSpec str=TensorSpec(shape=(None, None), dtype=tf.int32, name='input_ids')\" is not\nEntire first structure:\n(({'attention_mask': ., 'input_ids': .}, ., ., ., ., ., ., ., ., ., ., ., ., .), {})\nEntire second structure:\n((., ., ., ., ., ., ., ., ., ., ., ., ., .), {})"
     ]
    }
   ],
   "source": [
    "import mlflow.tensorflow\n",
    "import os\n",
    "\n",
    "model_uri = \"models:/Bert_best_Model/1\"\n",
    "export_path = os.path.join(\"exp_models\", \"Best_BERT_model\")\n",
    "os.makedirs(export_path, exist_ok=True)\n",
    "\n",
    "# Charger le modèle depuis le registry\n",
    "model = mlflow.tensorflow.load_model(model_uri)\n",
    "\n",
    "# Sauvegarder localement au format TensorFlow SavedModel\n",
    "import tensorflow as tf\n",
    "tf.keras.models.save_model(model, export_path)\n",
    "\n",
    "print(f\"Modèle exporté dans : {export_path}\")"
   ]
  },
  {
   "cell_type": "code",
   "execution_count": 11,
   "id": "62fd3da8",
   "metadata": {},
   "outputs": [
    {
     "ename": "ValueError",
     "evalue": "The two structures don't have the same nested structure.\n\nFirst structure: type=tuple str=(({'attention_mask': TensorSpec(shape=(None, None), dtype=tf.int32, name=None), 'input_ids': TensorSpec(shape=(None, None), dtype=tf.int32, name=None)}, None, None, None, None, None, None, None, None, None, None, None, None, False), {})\n\nSecond structure: type=tuple str=((TensorSpec(shape=(None, None), dtype=tf.int32, name='input_ids'), TensorSpec(shape=(None, None), dtype=tf.int32, name='attention_mask'), None, None, None, None, None, None, None, None, None, None, None, False), {})\n\nMore specifically: Substructure \"type=dict str={'attention_mask': TensorSpec(shape=(None, None), dtype=tf.int32, name=None), 'input_ids': TensorSpec(shape=(None, None), dtype=tf.int32, name=None)}\" is a sequence, while substructure \"type=TensorSpec str=TensorSpec(shape=(None, None), dtype=tf.int32, name='input_ids')\" is not\nEntire first structure:\n(({'attention_mask': ., 'input_ids': .}, ., ., ., ., ., ., ., ., ., ., ., ., .), {})\nEntire second structure:\n((., ., ., ., ., ., ., ., ., ., ., ., ., .), {})",
     "output_type": "error",
     "traceback": [
      "\u001b[1;31m---------------------------------------------------------------------------\u001b[0m",
      "\u001b[1;31mValueError\u001b[0m                                Traceback (most recent call last)",
      "Cell \u001b[1;32mIn[11], line 2\u001b[0m\n\u001b[0;32m      1\u001b[0m model_uri \u001b[38;5;241m=\u001b[39m \u001b[38;5;124m\"\u001b[39m\u001b[38;5;124mmodels:/Bert_best_Model/1\u001b[39m\u001b[38;5;124m\"\u001b[39m\n\u001b[1;32m----> 2\u001b[0m model \u001b[38;5;241m=\u001b[39m \u001b[43mmlflow\u001b[49m\u001b[38;5;241;43m.\u001b[39;49m\u001b[43mtensorflow\u001b[49m\u001b[38;5;241;43m.\u001b[39;49m\u001b[43mload_model\u001b[49m\u001b[43m(\u001b[49m\u001b[43mmodel_uri\u001b[49m\u001b[43m)\u001b[49m\n",
      "File \u001b[1;32mc:\\ProgramData\\anaconda3\\envs\\AI_env_P7_gpu\\lib\\site-packages\\mlflow\\tensorflow\\__init__.py:648\u001b[0m, in \u001b[0;36mload_model\u001b[1;34m(model_uri, dst_path, saved_model_kwargs, keras_model_kwargs)\u001b[0m\n\u001b[0;32m    646\u001b[0m     save_format \u001b[38;5;241m=\u001b[39m flavor_conf\u001b[38;5;241m.\u001b[39mget(\u001b[38;5;124m\"\u001b[39m\u001b[38;5;124msave_format\u001b[39m\u001b[38;5;124m\"\u001b[39m, \u001b[38;5;124m\"\u001b[39m\u001b[38;5;124mh5\u001b[39m\u001b[38;5;124m\"\u001b[39m)\n\u001b[0;32m    647\u001b[0m     model_path \u001b[38;5;241m=\u001b[39m os\u001b[38;5;241m.\u001b[39mpath\u001b[38;5;241m.\u001b[39mjoin(local_model_path, flavor_conf\u001b[38;5;241m.\u001b[39mget(\u001b[38;5;124m\"\u001b[39m\u001b[38;5;124mdata\u001b[39m\u001b[38;5;124m\"\u001b[39m, _MODEL_SAVE_PATH))\n\u001b[1;32m--> 648\u001b[0m     \u001b[38;5;28;01mreturn\u001b[39;00m _load_keras_model(\n\u001b[0;32m    649\u001b[0m         model_path\u001b[38;5;241m=\u001b[39mmodel_path,\n\u001b[0;32m    650\u001b[0m         keras_module\u001b[38;5;241m=\u001b[39mkeras_module,\n\u001b[0;32m    651\u001b[0m         save_format\u001b[38;5;241m=\u001b[39msave_format,\n\u001b[0;32m    652\u001b[0m         \u001b[38;5;241m*\u001b[39m\u001b[38;5;241m*\u001b[39mkeras_model_kwargs,\n\u001b[0;32m    653\u001b[0m     )\n\u001b[0;32m    654\u001b[0m \u001b[38;5;28;01mif\u001b[39;00m model_type \u001b[38;5;241m==\u001b[39m _MODEL_TYPE_TF1_ESTIMATOR:\n\u001b[0;32m    655\u001b[0m     tf_saved_model_dir \u001b[38;5;241m=\u001b[39m os\u001b[38;5;241m.\u001b[39mpath\u001b[38;5;241m.\u001b[39mjoin(local_model_path, flavor_conf[\u001b[38;5;124m\"\u001b[39m\u001b[38;5;124msaved_model_dir\u001b[39m\u001b[38;5;124m\"\u001b[39m])\n",
      "File \u001b[1;32mc:\\ProgramData\\anaconda3\\envs\\AI_env_P7_gpu\\lib\\site-packages\\mlflow\\tensorflow\\__init__.py:582\u001b[0m, in \u001b[0;36m_load_keras_model\u001b[1;34m(model_path, keras_module, save_format, **kwargs)\u001b[0m\n\u001b[0;32m    579\u001b[0m         \u001b[38;5;28;01mreturn\u001b[39;00m keras_models\u001b[38;5;241m.\u001b[39mload_model(model_path, custom_objects\u001b[38;5;241m=\u001b[39mcustom_objects, \u001b[38;5;241m*\u001b[39m\u001b[38;5;241m*\u001b[39mkwargs)\n\u001b[0;32m    580\u001b[0m \u001b[38;5;28;01melse\u001b[39;00m:\n\u001b[0;32m    581\u001b[0m     \u001b[38;5;66;03m# NOTE: Older versions of Keras only handle filepath.\u001b[39;00m\n\u001b[1;32m--> 582\u001b[0m     \u001b[38;5;28;01mreturn\u001b[39;00m keras_models\u001b[38;5;241m.\u001b[39mload_model(model_path, custom_objects\u001b[38;5;241m=\u001b[39mcustom_objects, \u001b[38;5;241m*\u001b[39m\u001b[38;5;241m*\u001b[39mkwargs)\n",
      "File \u001b[1;32mc:\\ProgramData\\anaconda3\\envs\\AI_env_P7_gpu\\lib\\site-packages\\keras\\utils\\traceback_utils.py:70\u001b[0m, in \u001b[0;36mfilter_traceback.<locals>.error_handler\u001b[1;34m(*args, **kwargs)\u001b[0m\n\u001b[0;32m     67\u001b[0m     filtered_tb \u001b[38;5;241m=\u001b[39m _process_traceback_frames(e\u001b[38;5;241m.\u001b[39m__traceback__)\n\u001b[0;32m     68\u001b[0m     \u001b[38;5;66;03m# To get the full stack trace, call:\u001b[39;00m\n\u001b[0;32m     69\u001b[0m     \u001b[38;5;66;03m# `tf.debugging.disable_traceback_filtering()`\u001b[39;00m\n\u001b[1;32m---> 70\u001b[0m     \u001b[38;5;28;01mraise\u001b[39;00m e\u001b[38;5;241m.\u001b[39mwith_traceback(filtered_tb) \u001b[38;5;28;01mfrom\u001b[39;00m\u001b[38;5;250m \u001b[39m\u001b[38;5;28;01mNone\u001b[39;00m\n\u001b[0;32m     71\u001b[0m \u001b[38;5;28;01mfinally\u001b[39;00m:\n\u001b[0;32m     72\u001b[0m     \u001b[38;5;28;01mdel\u001b[39;00m filtered_tb\n",
      "File \u001b[1;32mc:\\ProgramData\\anaconda3\\envs\\AI_env_P7_gpu\\lib\\site-packages\\tensorflow\\python\\util\\nest.py:573\u001b[0m, in \u001b[0;36massert_same_structure\u001b[1;34m(nest1, nest2, check_types, expand_composites)\u001b[0m\n\u001b[0;32m    571\u001b[0m str1 \u001b[38;5;241m=\u001b[39m \u001b[38;5;28mstr\u001b[39m(map_structure(\u001b[38;5;28;01mlambda\u001b[39;00m _: _DOT, nest1))\n\u001b[0;32m    572\u001b[0m str2 \u001b[38;5;241m=\u001b[39m \u001b[38;5;28mstr\u001b[39m(map_structure(\u001b[38;5;28;01mlambda\u001b[39;00m _: _DOT, nest2))\n\u001b[1;32m--> 573\u001b[0m \u001b[38;5;28;01mraise\u001b[39;00m \u001b[38;5;28mtype\u001b[39m(e)(\u001b[38;5;124m\"\u001b[39m\u001b[38;5;132;01m%s\u001b[39;00m\u001b[38;5;130;01m\\n\u001b[39;00m\u001b[38;5;124m\"\u001b[39m\n\u001b[0;32m    574\u001b[0m               \u001b[38;5;124m\"\u001b[39m\u001b[38;5;124mEntire first structure:\u001b[39m\u001b[38;5;130;01m\\n\u001b[39;00m\u001b[38;5;132;01m%s\u001b[39;00m\u001b[38;5;130;01m\\n\u001b[39;00m\u001b[38;5;124m\"\u001b[39m\n\u001b[0;32m    575\u001b[0m               \u001b[38;5;124m\"\u001b[39m\u001b[38;5;124mEntire second structure:\u001b[39m\u001b[38;5;130;01m\\n\u001b[39;00m\u001b[38;5;132;01m%s\u001b[39;00m\u001b[38;5;124m\"\u001b[39m\n\u001b[0;32m    576\u001b[0m               \u001b[38;5;241m%\u001b[39m (\u001b[38;5;28mstr\u001b[39m(e), str1, str2))\n",
      "\u001b[1;31mValueError\u001b[0m: The two structures don't have the same nested structure.\n\nFirst structure: type=tuple str=(({'attention_mask': TensorSpec(shape=(None, None), dtype=tf.int32, name=None), 'input_ids': TensorSpec(shape=(None, None), dtype=tf.int32, name=None)}, None, None, None, None, None, None, None, None, None, None, None, None, False), {})\n\nSecond structure: type=tuple str=((TensorSpec(shape=(None, None), dtype=tf.int32, name='input_ids'), TensorSpec(shape=(None, None), dtype=tf.int32, name='attention_mask'), None, None, None, None, None, None, None, None, None, None, None, False), {})\n\nMore specifically: Substructure \"type=dict str={'attention_mask': TensorSpec(shape=(None, None), dtype=tf.int32, name=None), 'input_ids': TensorSpec(shape=(None, None), dtype=tf.int32, name=None)}\" is a sequence, while substructure \"type=TensorSpec str=TensorSpec(shape=(None, None), dtype=tf.int32, name='input_ids')\" is not\nEntire first structure:\n(({'attention_mask': ., 'input_ids': .}, ., ., ., ., ., ., ., ., ., ., ., ., .), {})\nEntire second structure:\n((., ., ., ., ., ., ., ., ., ., ., ., ., .), {})"
     ]
    }
   ],
   "source": [
    "model_uri = \"models:/Bert_best_Model/1\"\n",
    "model = mlflow.tensorflow.load_model(model_uri)"
   ]
  },
  {
   "cell_type": "code",
   "execution_count": 8,
   "id": "4351a01c",
   "metadata": {},
   "outputs": [
    {
     "name": "stdout",
     "output_type": "stream",
     "text": [
      "WARNING:tensorflow:Layer lstm_1 will not use cuDNN kernels since it doesn't meet the criteria. It will use a generic GPU kernel as fallback when running on GPU.\n"
     ]
    },
    {
     "name": "stderr",
     "output_type": "stream",
     "text": [
      "WARNING:tensorflow:Layer lstm_1 will not use cuDNN kernels since it doesn't meet the criteria. It will use a generic GPU kernel as fallback when running on GPU.\n"
     ]
    },
    {
     "name": "stdout",
     "output_type": "stream",
     "text": [
      "WARNING:tensorflow:Layer lstm_1 will not use cuDNN kernels since it doesn't meet the criteria. It will use a generic GPU kernel as fallback when running on GPU.\n"
     ]
    },
    {
     "name": "stderr",
     "output_type": "stream",
     "text": [
      "WARNING:tensorflow:Layer lstm_1 will not use cuDNN kernels since it doesn't meet the criteria. It will use a generic GPU kernel as fallback when running on GPU.\n"
     ]
    },
    {
     "name": "stdout",
     "output_type": "stream",
     "text": [
      "WARNING:tensorflow:Layer lstm_1 will not use cuDNN kernels since it doesn't meet the criteria. It will use a generic GPU kernel as fallback when running on GPU.\n"
     ]
    },
    {
     "name": "stderr",
     "output_type": "stream",
     "text": [
      "WARNING:tensorflow:Layer lstm_1 will not use cuDNN kernels since it doesn't meet the criteria. It will use a generic GPU kernel as fallback when running on GPU.\n"
     ]
    },
    {
     "name": "stdout",
     "output_type": "stream",
     "text": [
      "INFO:tensorflow:Assets written to: exp_models\\Best_BiLSTM_model\\assets\n"
     ]
    },
    {
     "name": "stderr",
     "output_type": "stream",
     "text": [
      "INFO:tensorflow:Assets written to: exp_models\\Best_BiLSTM_model\\assets\n"
     ]
    },
    {
     "name": "stdout",
     "output_type": "stream",
     "text": [
      "Modèle exporté dans : exp_models\\Best_BiLSTM_model\n"
     ]
    }
   ],
   "source": [
    "import mlflow.tensorflow\n",
    "import os\n",
    "\n",
    "model_uri = \"models:/bilstm_best/1\"\n",
    "export_path = os.path.join(\"exp_models\", \"Best_BiLSTM_model\")\n",
    "os.makedirs(export_path, exist_ok=True)\n",
    "\n",
    "# Charger le modèle depuis le registry\n",
    "model = mlflow.tensorflow.load_model(model_uri)\n",
    "\n",
    "# Sauvegarder localement au format TensorFlow SavedModel\n",
    "import tensorflow as tf\n",
    "tf.keras.models.save_model(model, export_path)\n",
    "\n",
    "print(f\"Modèle exporté dans : {export_path}\")"
   ]
  },
  {
   "cell_type": "code",
   "execution_count": null,
   "id": "00e50696",
   "metadata": {},
   "outputs": [],
   "source": []
  }
 ],
 "metadata": {
  "kernelspec": {
   "display_name": "AI_env_P7_gpu",
   "language": "python",
   "name": "python3"
  },
  "language_info": {
   "codemirror_mode": {
    "name": "ipython",
    "version": 3
   },
   "file_extension": ".py",
   "mimetype": "text/x-python",
   "name": "python",
   "nbconvert_exporter": "python",
   "pygments_lexer": "ipython3",
   "version": "3.10.18"
  }
 },
 "nbformat": 4,
 "nbformat_minor": 5
}
