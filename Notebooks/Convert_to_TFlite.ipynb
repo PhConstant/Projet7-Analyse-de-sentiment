{
 "cells": [
  {
   "cell_type": "code",
   "execution_count": 1,
   "id": "6afc40cb",
   "metadata": {},
   "outputs": [
    {
     "name": "stderr",
     "output_type": "stream",
     "text": [
      "c:\\ProgramData\\anaconda3\\envs\\AI_env_P7_gpu\\lib\\site-packages\\tensorflow_hub\\__init__.py:61: UserWarning: pkg_resources is deprecated as an API. See https://setuptools.pypa.io/en/latest/pkg_resources.html. The pkg_resources package is slated for removal as early as 2025-11-30. Refrain from using this package or pin to Setuptools<81.\n",
      "  from pkg_resources import parse_version\n",
      "c:\\ProgramData\\anaconda3\\envs\\AI_env_P7_gpu\\lib\\site-packages\\tqdm\\auto.py:21: TqdmWarning: IProgress not found. Please update jupyter and ipywidgets. See https://ipywidgets.readthedocs.io/en/stable/user_install.html\n",
      "  from .autonotebook import tqdm as notebook_tqdm\n"
     ]
    },
    {
     "name": "stdout",
     "output_type": "stream",
     "text": [
      "2.10.1\n",
      "Num GPUs Available:  1\n",
      "GPUs disponibles : [PhysicalDevice(name='/physical_device:GPU:0', device_type='GPU')]\n",
      "Version TF : 2.10.1\n"
     ]
    }
   ],
   "source": [
    "import tensorflow as tf\n",
    "import numpy as np\n",
    "from sklearn.model_selection import train_test_split\n",
    "\n",
    "import multiprocessing\n",
    "import pandas as pd\n",
    "import seaborn as sns\n",
    "from mlflow import MlflowClient\n",
    "import mlflow\n",
    "import os\n",
    "import sys\n",
    "from pathlib import Path\n",
    "cwd = Path.cwd()\n",
    "parent = cwd.parent\n",
    "sys.path.append(str(parent))\n",
    "sys.path.append(os.path.abspath(os.path.join(\"..\",\"Source\")))\n",
    "\n",
    "mlruns_path = Path(\"../mlruns\").resolve() \n",
    "mlflow_uri = mlruns_path.as_uri()\n",
    "mlflow.set_tracking_uri(mlflow_uri)\n",
    "\n",
    "\n",
    "# 🤗\n",
    "from transformers import AutoTokenizer\n",
    "\n",
    "\n",
    "\n",
    "from sklearn.metrics import confusion_matrix \n",
    "# from nltk.corpus import stopwords  \n",
    "from tqdm import tqdm\n",
    "tqdm.pandas()\n",
    "os.environ['CUDA_VISIBLE_DEVICES'] = \"0\"\n",
    "\n",
    "nw = multiprocessing.cpu_count()\n",
    "\n",
    "\n",
    "\n",
    "client = MlflowClient(tracking_uri=\"http://localhost:8080\")\n",
    "os.environ[\"TF_KERAS\"]='1'\n",
    "print(tf.__version__)\n",
    "print(\"Num GPUs Available: \", len(tf.config.list_physical_devices('GPU')))\n",
    "print(\"GPUs disponibles :\", tf.config.list_physical_devices(\"GPU\"))\n",
    "print(\"Version TF :\", tf.__version__)"
   ]
  },
  {
   "cell_type": "code",
   "execution_count": null,
   "id": "16ded23b",
   "metadata": {},
   "outputs": [],
   "source": []
  },
  {
   "cell_type": "markdown",
   "id": "5f7349e7",
   "metadata": {},
   "source": [
    "## Chargement du modèle complet"
   ]
  },
  {
   "cell_type": "code",
   "execution_count": 2,
   "id": "984ced33",
   "metadata": {},
   "outputs": [
    {
     "name": "stderr",
     "output_type": "stream",
     "text": [
      "TensorFlow and JAX classes are deprecated and will be removed in Transformers v5. We recommend migrating to PyTorch classes or pinning your version of Transformers.\n"
     ]
    }
   ],
   "source": [
    "# Besoin de cette importation pour charger le modèle complet car il utilise une couche de transformers\n",
    "from transformers import TFRobertaModel \n",
    "\n",
    "\n",
    "fullmodel3 = tf.keras.models.load_model(\n",
    "    \"../Models/Best_BERT_model_save_keras_v2\",\n",
    "    custom_objects={\"TFRobertaModel\": TFRobertaModel}\n",
    ")"
   ]
  },
  {
   "cell_type": "code",
   "execution_count": 3,
   "id": "53374473",
   "metadata": {},
   "outputs": [
    {
     "name": "stdout",
     "output_type": "stream",
     "text": [
      "Model: \"model_3\"\n",
      "__________________________________________________________________________________________________\n",
      " Layer (type)                   Output Shape         Param #     Connected to                     \n",
      "==================================================================================================\n",
      " input_ids (InputLayer)         [(None, None)]       0           []                               \n",
      "                                                                                                  \n",
      " attention_mask (InputLayer)    [(None, None)]       0           []                               \n",
      "                                                                                                  \n",
      " tf_roberta_model_6 (TFRobertaM  TFBaseModelOutputWi  124645632  ['input_ids[0][0]',              \n",
      " odel)                          thPoolingAndCrossAt               'attention_mask[0][0]']         \n",
      "                                tentions(last_hidde                                               \n",
      "                                n_state=(None, None                                               \n",
      "                                , 768),                                                           \n",
      "                                 pooler_output=(Non                                               \n",
      "                                e, 768),                                                          \n",
      "                                 past_key_values=No                                               \n",
      "                                ne, hidden_states=N                                               \n",
      "                                one, attentions=Non                                               \n",
      "                                e, cross_attentions                                               \n",
      "                                =None)                                                            \n",
      "                                                                                                  \n",
      " tf.__operators__.getitem_3 (Sl  (None, 768)         0           ['tf_roberta_model_6[0][0]']     \n",
      " icingOpLambda)                                                                                   \n",
      "                                                                                                  \n",
      " tf.math.reduce_max_3 (TFOpLamb  (None, 768)         0           ['tf_roberta_model_6[0][0]']     \n",
      " da)                                                                                              \n",
      "                                                                                                  \n",
      " tf.math.reduce_mean_3 (TFOpLam  (None, 768)         0           ['tf_roberta_model_6[0][0]']     \n",
      " bda)                                                                                             \n",
      "                                                                                                  \n",
      " tf.concat_3 (TFOpLambda)       (None, 2304)         0           ['tf.__operators__.getitem_3[0][0\n",
      "                                                                 ]',                              \n",
      "                                                                  'tf.math.reduce_max_3[0][0]',   \n",
      "                                                                  'tf.math.reduce_mean_3[0][0]']  \n",
      "                                                                                                  \n",
      " dense_6 (Dense)                (None, 256)          590080      ['tf.concat_3[0][0]']            \n",
      "                                                                                                  \n",
      " dropout_262 (Dropout)          (None, 256)          0           ['dense_6[0][0]']                \n",
      "                                                                                                  \n",
      " dense_7 (Dense)                (None, 1)            257         ['dropout_262[0][0]']            \n",
      "                                                                                                  \n",
      "==================================================================================================\n",
      "Total params: 125,235,969\n",
      "Trainable params: 590,337\n",
      "Non-trainable params: 124,645,632\n",
      "__________________________________________________________________________________________________\n"
     ]
    }
   ],
   "source": [
    "fullmodel3.summary()"
   ]
  },
  {
   "cell_type": "markdown",
   "id": "d7452c52",
   "metadata": {},
   "source": [
    "# Creation du convertisseur TFlite (option conversion en `float16`)"
   ]
  },
  {
   "cell_type": "code",
   "execution_count": 4,
   "id": "55b8ad47",
   "metadata": {},
   "outputs": [
    {
     "name": "stderr",
     "output_type": "stream",
     "text": [
      "WARNING:absl:Found untraced functions such as serving, encoder_layer_call_fn, encoder_layer_call_and_return_conditional_losses, pooler_layer_call_fn, pooler_layer_call_and_return_conditional_losses while saving (showing 5 of 421). These functions will not be directly callable after loading.\n"
     ]
    },
    {
     "name": "stdout",
     "output_type": "stream",
     "text": [
      "INFO:tensorflow:Assets written to: C:\\Users\\bassm\\AppData\\Local\\Temp\\tmp717l46un\\assets\n"
     ]
    },
    {
     "name": "stderr",
     "output_type": "stream",
     "text": [
      "INFO:tensorflow:Assets written to: C:\\Users\\bassm\\AppData\\Local\\Temp\\tmp717l46un\\assets\n"
     ]
    }
   ],
   "source": [
    "converter = tf.lite.TFLiteConverter.from_keras_model(fullmodel3)\n",
    "\n",
    "converter.optimizations = [tf.lite.Optimize.DEFAULT]\n",
    "converter.target_spec.supported_types = [tf.float16]\n",
    "tflite_model = converter.convert()"
   ]
  },
  {
   "cell_type": "code",
   "execution_count": 5,
   "id": "9f73431b",
   "metadata": {},
   "outputs": [],
   "source": [
    "# Sauvegarde\n",
    "with open(\"../exp_models/bert_model_f16.tflite\", \"wb\") as f:\n",
    "    f.write(tflite_model)"
   ]
  },
  {
   "cell_type": "markdown",
   "id": "7dbfaae2",
   "metadata": {},
   "source": [
    "# Création du convertisseur TFlite (option `OPTIMIZE_FOR_SIZE`)"
   ]
  },
  {
   "cell_type": "code",
   "execution_count": 6,
   "id": "dbef75b0",
   "metadata": {},
   "outputs": [
    {
     "name": "stderr",
     "output_type": "stream",
     "text": [
      "WARNING:absl:Found untraced functions such as serving, encoder_layer_call_fn, encoder_layer_call_and_return_conditional_losses, pooler_layer_call_fn, pooler_layer_call_and_return_conditional_losses while saving (showing 5 of 421). These functions will not be directly callable after loading.\n"
     ]
    },
    {
     "name": "stdout",
     "output_type": "stream",
     "text": [
      "INFO:tensorflow:Assets written to: C:\\Users\\bassm\\AppData\\Local\\Temp\\tmp4cbhi1pa\\assets\n"
     ]
    },
    {
     "name": "stderr",
     "output_type": "stream",
     "text": [
      "INFO:tensorflow:Assets written to: C:\\Users\\bassm\\AppData\\Local\\Temp\\tmp4cbhi1pa\\assets\n"
     ]
    }
   ],
   "source": [
    "converter2 = tf.lite.TFLiteConverter.from_keras_model(fullmodel3)\n",
    "    \n",
    "converter2.optimizations = [tf.lite.Optimize.DEFAULT]\n",
    "\n",
    "tflite_model2 = converter2.convert()"
   ]
  },
  {
   "cell_type": "code",
   "execution_count": 7,
   "id": "d048f0e0",
   "metadata": {},
   "outputs": [],
   "source": [
    "with open(\"../exp_models/bert_model_opt_size.tflite\", \"wb\") as f:\n",
    "    f.write(tflite_model2)"
   ]
  },
  {
   "cell_type": "markdown",
   "id": "07a7e6a5",
   "metadata": {},
   "source": [
    "# Chargement modèles TFlite"
   ]
  },
  {
   "cell_type": "code",
   "execution_count": 8,
   "id": "6cde5fac",
   "metadata": {},
   "outputs": [
    {
     "name": "stdout",
     "output_type": "stream",
     "text": [
      "Entrées : [{'name': 'serving_default_attention_mask:0', 'index': 0, 'shape': array([1, 1]), 'shape_signature': array([-1, -1]), 'dtype': <class 'numpy.int32'>, 'quantization': (0.0, 0), 'quantization_parameters': {'scales': array([], dtype=float32), 'zero_points': array([], dtype=int32), 'quantized_dimension': 0}, 'sparsity_parameters': {}}, {'name': 'serving_default_input_ids:0', 'index': 1, 'shape': array([1, 1]), 'shape_signature': array([-1, -1]), 'dtype': <class 'numpy.int32'>, 'quantization': (0.0, 0), 'quantization_parameters': {'scales': array([], dtype=float32), 'zero_points': array([], dtype=int32), 'quantized_dimension': 0}, 'sparsity_parameters': {}}]\n",
      "Sorties : [{'name': 'StatefulPartitionedCall:0', 'index': 1549, 'shape': array([1, 1]), 'shape_signature': array([-1,  1]), 'dtype': <class 'numpy.float32'>, 'quantization': (0.0, 0), 'quantization_parameters': {'scales': array([], dtype=float32), 'zero_points': array([], dtype=int32), 'quantized_dimension': 0}, 'sparsity_parameters': {}}]\n"
     ]
    }
   ],
   "source": [
    "# Charger le modèle TFLite float16\n",
    "interpreter_f16 = tf.lite.Interpreter(model_path=\"../exp_models/bert_model_f16.tflite\")\n",
    "\n",
    "input_details_f16 = interpreter_f16.get_input_details()\n",
    "output_details_f16 = interpreter_f16.get_output_details()\n",
    "\n",
    "print(\"Entrées :\", input_details_f16)\n",
    "print(\"Sorties :\", output_details_f16)"
   ]
  },
  {
   "cell_type": "code",
   "execution_count": 9,
   "id": "c36fc234",
   "metadata": {},
   "outputs": [
    {
     "name": "stdout",
     "output_type": "stream",
     "text": [
      "Entrées : [{'name': 'serving_default_attention_mask:0', 'index': 0, 'shape': array([1, 1]), 'shape_signature': array([-1, -1]), 'dtype': <class 'numpy.int32'>, 'quantization': (0.0, 0), 'quantization_parameters': {'scales': array([], dtype=float32), 'zero_points': array([], dtype=int32), 'quantized_dimension': 0}, 'sparsity_parameters': {}}, {'name': 'serving_default_input_ids:0', 'index': 1, 'shape': array([1, 1]), 'shape_signature': array([-1, -1]), 'dtype': <class 'numpy.int32'>, 'quantization': (0.0, 0), 'quantization_parameters': {'scales': array([], dtype=float32), 'zero_points': array([], dtype=int32), 'quantized_dimension': 0}, 'sparsity_parameters': {}}]\n",
      "Sorties : [{'name': 'StatefulPartitionedCall:0', 'index': 1345, 'shape': array([1, 1]), 'shape_signature': array([-1,  1]), 'dtype': <class 'numpy.float32'>, 'quantization': (0.0, 0), 'quantization_parameters': {'scales': array([], dtype=float32), 'zero_points': array([], dtype=int32), 'quantized_dimension': 0}, 'sparsity_parameters': {}}]\n"
     ]
    }
   ],
   "source": [
    "# Charger le modèle TFLite optimisé taille\n",
    "interpreter_opt = tf.lite.Interpreter(model_path=\"../exp_models/bert_model_opt_size.tflite\")\n",
    "\n",
    "input_details_opt = interpreter_opt.get_input_details()\n",
    "output_details_opt = interpreter_opt.get_output_details()\n",
    "\n",
    "print(\"Entrées :\", input_details_opt)\n",
    "print(\"Sorties :\", output_details_opt)"
   ]
  },
  {
   "cell_type": "markdown",
   "id": "4f234d19",
   "metadata": {},
   "source": [
    "# Import du toenizer directement depuis HF"
   ]
  },
  {
   "cell_type": "code",
   "execution_count": 10,
   "id": "aa65f040",
   "metadata": {},
   "outputs": [
    {
     "data": {
      "text/plain": [
       "('../exp_models/final_tokenizer\\\\tokenizer_config.json',\n",
       " '../exp_models/final_tokenizer\\\\special_tokens_map.json',\n",
       " '../exp_models/final_tokenizer\\\\vocab.json',\n",
       " '../exp_models/final_tokenizer\\\\merges.txt',\n",
       " '../exp_models/final_tokenizer\\\\added_tokens.json',\n",
       " '../exp_models/final_tokenizer\\\\tokenizer.json')"
      ]
     },
     "execution_count": 10,
     "metadata": {},
     "output_type": "execute_result"
    }
   ],
   "source": [
    "tokenizer_loaded = AutoTokenizer.from_pretrained(\"Kapiche/twitter-roberta-base-sentiment\")\n",
    "tokenizer_loaded.save_pretrained(\"../exp_models/final_tokenizer\")"
   ]
  },
  {
   "cell_type": "markdown",
   "id": "9ed410d1",
   "metadata": {},
   "source": [
    "# Prediction à partir du modèle allegé"
   ]
  },
  {
   "cell_type": "markdown",
   "id": "309b9160",
   "metadata": {},
   "source": [
    "## Version `float16`"
   ]
  },
  {
   "cell_type": "code",
   "execution_count": 11,
   "id": "c27e8290",
   "metadata": {},
   "outputs": [],
   "source": [
    "\n",
    "\n",
    "def predict_tflite_f16(sentence, max_len=64):\n",
    "    # Tokenizer la phrase\n",
    "    inputs = tokenizer_loaded(sentence, return_tensors=\"np\", padding='max_length', max_length=max_len, truncation=True)\n",
    "\n",
    "    # Resize + allocate\n",
    "    interpreter_f16.resize_tensor_input(input_details_f16[0]['index'], [1, max_len])\n",
    "    interpreter_f16.resize_tensor_input(input_details_f16[1]['index'], [1, max_len])\n",
    "    interpreter_f16.allocate_tensors()\n",
    "\n",
    "    # Injecter les tenseurs\n",
    "    interpreter_f16.set_tensor(input_details_f16[0]['index'], inputs['attention_mask'])\n",
    "    interpreter_f16.set_tensor(input_details_f16[1]['index'], inputs['input_ids'])\n",
    "\n",
    "    # Inference\n",
    "    interpreter_f16.invoke()\n",
    "    output = interpreter_f16.get_tensor(output_details_f16 [0]['index'])\n",
    "    return output"
   ]
  },
  {
   "cell_type": "markdown",
   "id": "adc6d174",
   "metadata": {},
   "source": [
    "## Version `DEFAULT`"
   ]
  },
  {
   "cell_type": "code",
   "execution_count": 12,
   "id": "3f93a7dd",
   "metadata": {},
   "outputs": [],
   "source": [
    "\n",
    "\n",
    "def predict_tflite_opt(sentence, max_len=64):\n",
    "    # Tokenizer la phrase\n",
    "    inputs = tokenizer_loaded(sentence, return_tensors=\"np\", padding='max_length', max_length=max_len, truncation=True)\n",
    "\n",
    "    # Resize + allocate\n",
    "    interpreter_opt.resize_tensor_input(input_details_opt[0]['index'], [1, max_len])\n",
    "    interpreter_opt.resize_tensor_input(input_details_opt[1]['index'], [1, max_len])\n",
    "    interpreter_opt.allocate_tensors()\n",
    "\n",
    "    # Injecter les tenseurs\n",
    "    interpreter_opt.set_tensor(input_details_opt[0]['index'], inputs['attention_mask'])\n",
    "    interpreter_opt.set_tensor(input_details_opt[1]['index'], inputs['input_ids'])\n",
    "\n",
    "    # Inference\n",
    "    interpreter_opt.invoke()\n",
    "    output = interpreter_opt.get_tensor(output_details_opt[0]['index'])\n",
    "    return output"
   ]
  },
  {
   "cell_type": "markdown",
   "id": "83edecf1",
   "metadata": {},
   "source": [
    "# Prediction à partir du modèle complet "
   ]
  },
  {
   "cell_type": "code",
   "execution_count": 13,
   "id": "f7047e85",
   "metadata": {},
   "outputs": [],
   "source": [
    "    \n",
    "def predict_fullmodel3(text):\n",
    "    inputs = tokenizer_loaded(text, return_tensors=\"tf\", padding=True, truncation=True, max_length=64)\n",
    "    inputs = {k: tf.convert_to_tensor(v) for k, v in inputs.items()}\n",
    "    preds = fullmodel3.predict(inputs, verbose=0)\n",
    "    return preds\n"
   ]
  },
  {
   "cell_type": "markdown",
   "id": "b1488982",
   "metadata": {},
   "source": [
    "# Comparaison des écartes entre les deux modèles (Complet VS Lite)"
   ]
  },
  {
   "cell_type": "markdown",
   "id": "c87b7ca9",
   "metadata": {},
   "source": [
    "## Chargement du dataset d'entrainement "
   ]
  },
  {
   "cell_type": "code",
   "execution_count": 14,
   "id": "f10c7a5c",
   "metadata": {},
   "outputs": [
    {
     "name": "stdout",
     "output_type": "stream",
     "text": [
      "Sample size: 8000 rows\n"
     ]
    },
    {
     "name": "stderr",
     "output_type": "stream",
     "text": [
      "c:\\ProgramData\\anaconda3\\envs\\AI_env_P7_gpu\\lib\\site-packages\\mlflow\\data\\dataset_source_registry.py:148: UserWarning: Failed to determine whether UCVolumeDatasetSource can resolve source information for '../Data/raw_data.csv'. Exception: \n",
      "  return _dataset_source_registry.resolve(\n",
      "c:\\ProgramData\\anaconda3\\envs\\AI_env_P7_gpu\\lib\\site-packages\\mlflow\\data\\dataset_source_registry.py:148: UserWarning: The specified dataset source can be interpreted in multiple ways: LocalArtifactDatasetSource, LocalArtifactDatasetSource. MLflow will assume that this is a LocalArtifactDatasetSource source.\n",
      "  return _dataset_source_registry.resolve(\n"
     ]
    }
   ],
   "source": [
    "df = pd.read_csv('https://s3-eu-west-1.amazonaws.com/static.oc-static.com/prod/courses/files/AI+Engineer/Project+7%C2%A0-+D%C3%A9tectez+les+Bad+Buzz+gr%C3%A2ce+au+Deep+Learning/sentiment140.zip',\n",
    "                header=None,\n",
    "                compression='zip',\n",
    "                encoding='cp1252')\n",
    "\n",
    "df.columns = ['target', 'ids', 'date', 'flag', 'user', 'text']\n",
    "data_size = 1000\n",
    "\n",
    "sample_df, _ = train_test_split(df, test_size=1-0.005, random_state=42, stratify=df['target'])\n",
    "sample_df = sample_df.reset_index(drop=True)\n",
    "print(f\"Sample size: {sample_df.shape[0]} rows\")\n",
    "# On ne garde que les colonnes 'target' et 'text'\n",
    "sample_df = sample_df[['target', 'text']]\n",
    "sample_df[\"target\"] = sample_df[\"target\"].apply(lambda x: 0 if x == 0 else 1)\n",
    "sample_df.to_csv('../Data/raw_data.csv', index=False)\n",
    "dataset = mlflow.data.from_pandas(\n",
    "    sample_df,\n",
    "    source=\"../Data/raw_data.csv\",\n",
    "    name=\"dataset_v1\"\n",
    ")\n",
    "\n",
    "# Data\n",
    "X_raw = sample_df['text']\n",
    "y = sample_df['target']\n"
   ]
  },
  {
   "cell_type": "code",
   "execution_count": 15,
   "id": "9e10ff3e",
   "metadata": {},
   "outputs": [],
   "source": [
    "sentences  = X_raw.to_list()"
   ]
  },
  {
   "cell_type": "markdown",
   "id": "f198e3a6",
   "metadata": {},
   "source": [
    "## Predictions sur le dataset d'entrainement "
   ]
  },
  {
   "cell_type": "code",
   "execution_count": 16,
   "id": "45be6fe9",
   "metadata": {},
   "outputs": [
    {
     "name": "stderr",
     "output_type": "stream",
     "text": [
      "  0%|          | 0/8000 [00:00<?, ?it/s]TensorFlow and JAX classes are deprecated and will be removed in Transformers v5. We recommend migrating to PyTorch classes or pinning your version of Transformers.\n",
      "100%|██████████| 8000/8000 [11:19<00:00, 11.78it/s]\n",
      "100%|██████████| 8000/8000 [1:12:22<00:00,  1.84it/s]\n",
      "100%|██████████| 8000/8000 [1:34:31<00:00,  1.41it/s]\n"
     ]
    }
   ],
   "source": [
    "import tqdm\n",
    "\n",
    "results_full = [predict_fullmodel3(s) for s in tqdm.tqdm(sentences)]\n",
    "results_lite_f16 = [predict_tflite_f16(s) for s in tqdm.tqdm(sentences)]\n",
    "results_lite_opt = [predict_tflite_opt(s) for s in tqdm.tqdm(sentences)]\n"
   ]
  },
  {
   "cell_type": "code",
   "execution_count": 17,
   "id": "a1aa904e",
   "metadata": {},
   "outputs": [],
   "source": [
    "results_full_array = np.array([r[0] for r in results_full])\n",
    "results_lite_f16_array = np.array([r[0] for r in results_lite_f16]) \n",
    "results_lite_opt_array = np.array([r[0] for r in results_lite_opt])"
   ]
  },
  {
   "cell_type": "code",
   "execution_count": 18,
   "id": "9b50b261",
   "metadata": {},
   "outputs": [],
   "source": [
    "diff_array_f16 = results_full_array - results_lite_f16_array\n",
    "diff_array_opt = results_full_array - results_lite_opt_array"
   ]
  },
  {
   "cell_type": "code",
   "execution_count": 19,
   "id": "26825644",
   "metadata": {},
   "outputs": [
    {
     "data": {
      "text/plain": [
       "<Axes: ylabel='Count'>"
      ]
     },
     "execution_count": 19,
     "metadata": {},
     "output_type": "execute_result"
    },
    {
     "data": {
      "image/png": "[encoded data removed]",
      "text/plain": [
       "<Figure size 640x480 with 1 Axes>"
      ]
     },
     "metadata": {},
     "output_type": "display_data"
    }
   ],
   "source": [
    "sns.histplot(results_full_array.flatten(), bins=50)\n",
    "sns.histplot(results_lite_f16_array.flatten(), bins=50)\n",
    "sns.histplot(results_lite_opt_array.flatten(), bins=50)"
   ]
  },
  {
   "cell_type": "code",
   "execution_count": 20,
   "id": "10eec321",
   "metadata": {},
   "outputs": [
    {
     "data": {
      "text/plain": [
       "<Axes: ylabel='Count'>"
      ]
     },
     "execution_count": 20,
     "metadata": {},
     "output_type": "execute_result"
    },
    {
     "data": {
      "image/png": "[encoded data removed]",
      "text/plain": [
       "<Figure size 640x480 with 1 Axes>"
      ]
     },
     "metadata": {},
     "output_type": "display_data"
    }
   ],
   "source": [
    "sns.histplot(np.abs(diff_array_f16.flatten()), bins=50)\n",
    "\n"
   ]
  },
  {
   "cell_type": "code",
   "execution_count": 21,
   "id": "3bc44014",
   "metadata": {},
   "outputs": [
    {
     "data": {
      "text/plain": [
       "<Axes: ylabel='Count'>"
      ]
     },
     "execution_count": 21,
     "metadata": {},
     "output_type": "execute_result"
    },
    {
     "data": {
      "image/png": "[encoded data removed]",
      "text/plain": [
       "<Figure size 640x480 with 1 Axes>"
      ]
     },
     "metadata": {},
     "output_type": "display_data"
    }
   ],
   "source": [
    "sns.histplot(np.abs(diff_array_opt.flatten()), bins=50)"
   ]
  },
  {
   "cell_type": "markdown",
   "id": "2b89a8c6",
   "metadata": {},
   "source": [
    "# Accuracy par rapport au dataset "
   ]
  },
  {
   "cell_type": "code",
   "execution_count": 22,
   "id": "9e783532",
   "metadata": {},
   "outputs": [],
   "source": [
    "y_pred_full = (results_full_array > 0.5).astype(int).flatten()\n",
    "y_pred_f16 = (results_lite_f16_array > 0.5).astype(int).flatten()\n",
    "y_pred_opt = (results_lite_opt_array > 0.5).astype(int).flatten()"
   ]
  },
  {
   "cell_type": "code",
   "execution_count": 23,
   "id": "84c47d77",
   "metadata": {},
   "outputs": [
    {
     "name": "stdout",
     "output_type": "stream",
     "text": [
      "Accuracy Full model: 0.82375\n",
      "Accuracy TFlite-f16 model: 0.824625\n",
      "Accuracy TFlite-optimized model: 0.826875\n"
     ]
    }
   ],
   "source": [
    "from sklearn.metrics import accuracy_score, classification_report, confusion_matrix, roc_curve, roc_auc_score,auc\n",
    "\n",
    "acc_full = accuracy_score(y, y_pred_full)\n",
    "print(f\"Accuracy Full model: {acc_full}\")\n",
    "acc_f16 = accuracy_score(y, y_pred_f16)\n",
    "print(f\"Accuracy TFlite-f16 model: {acc_f16}\")\n",
    "acc_opt = accuracy_score(y, y_pred_opt)\n",
    "print(f\"Accuracy TFlite-optimized model: {acc_opt}\")"
   ]
  },
  {
   "cell_type": "code",
   "execution_count": 24,
   "id": "e68e0b45",
   "metadata": {},
   "outputs": [
    {
     "name": "stdout",
     "output_type": "stream",
     "text": [
      "Seuil optimal pour accuracy : 0.47763 | Accuracy = 0.8261\n",
      "Seuil optimal pour accuracy TFlite-f16 : 0.45279 | Accuracy = 0.8273\n",
      "Seuil optimal pour accuracy TFlite-optimized : 0.52621 | Accuracy = 0.8290\n"
     ]
    }
   ],
   "source": [
    "def find_best_threshold_accuracy(y_true, y_prob, thresholds=None):\n",
    "    if thresholds is None:\n",
    "        thresholds = np.linspace(0, 1, 100001)  # 100001 seuils entre 0 et 1\n",
    "    best_t = 0.5\n",
    "    best_acc = -1\n",
    "    for t in thresholds:\n",
    "        preds = (y_prob >= t).astype(int)\n",
    "        acc = accuracy_score(y_true, preds)\n",
    "        if acc > best_acc:\n",
    "            best_acc = acc\n",
    "            best_t = t\n",
    "    return best_t, best_acc\n",
    "\n",
    "# Exemple\n",
    "best_t_full, best_acc_full = find_best_threshold_accuracy(y, results_full_array.flatten())\n",
    "print(f\"Seuil optimal pour accuracy : {best_t_full:.5f} | Accuracy = {best_acc_full:.4f}\")\n",
    "\n",
    "best_t_f16, best_acc_f16 = find_best_threshold_accuracy(y, results_lite_f16_array.flatten())\n",
    "print(f\"Seuil optimal pour accuracy TFlite-f16 : {best_t_f16:.5f} | Accuracy = {best_acc_f16:.4f}\")\n",
    "\n",
    "best_t_opt, best_acc_opt = find_best_threshold_accuracy(y, results_lite_opt_array.flatten())\n",
    "print(f\"Seuil optimal pour accuracy TFlite-optimized : {best_t_opt:.5f} | Accuracy = {best_acc_opt:.4f}\")"
   ]
  },
  {
   "cell_type": "markdown",
   "id": "34ca46b1",
   "metadata": {},
   "source": [
    "- L'optimisation du seuil permet de gagner environ $1\\%$ d'accuracy pour tous les modèles. \n",
    "- L'accuracy entre le modèle TFlite-f16 et le modèle complet est quasi nulle (inférieure à $10^{-4}$)\n",
    "- Le passage en modèle optimisé TFlite ne fait perdre que $0.6\\%$ en accuracy. "
   ]
  },
  {
   "cell_type": "code",
   "execution_count": 25,
   "id": "424f6c10",
   "metadata": {},
   "outputs": [
    {
     "data": {
      "image/png": "[encoded data removed]",
      "text/plain": [
       "<Figure size 1200x600 with 1 Axes>"
      ]
     },
     "metadata": {},
     "output_type": "display_data"
    }
   ],
   "source": [
    "fpr_full, tpr_full, thresholds_full = roc_curve(y, results_full_array.flatten())\n",
    "fpr_f16, tpr_f16, thresholds_f16 = roc_curve(y, results_lite_f16_array.flatten())\n",
    "fpr_opt, tpr_opt, thresholds_opt = roc_curve(y, results_lite_opt_array.flatten())\n",
    "\n",
    "roc_auc_full = auc(fpr_full, tpr_full)\n",
    "roc_auc_f16 = auc(fpr_f16, tpr_f16)\n",
    "roc_auc_opt = auc(fpr_opt, tpr_opt)\n",
    "\n",
    "plt.figure(figsize=(12,6))\n",
    "plt.plot(fpr_full, tpr_full, color='blue', label=f'ROC (AUC = {roc_auc_full:.5f})')\n",
    "plt.plot(fpr_f16, tpr_f16, color='orange', label=f'ROC TFlite-f16 (AUC = {roc_auc_f16:.5f})')\n",
    "plt.plot(fpr_opt, tpr_opt, color='green', label=f'ROC TFlite-optimized (AUC = {roc_auc_opt:.5f})')\n",
    "plt.plot([0, 1], [0, 1], color='gray', linestyle='--', label='Aléatoire')\n",
    "plt.xlabel('Taux de faux positifs (FPR)')\n",
    "plt.ylabel('Taux de vrais positifs (TPR)')\n",
    "plt.title('Courbe ROC')\n",
    "plt.legend(loc='lower right')\n",
    "plt.grid(True)\n",
    "plt.show()\n",
    "\n"
   ]
  },
  {
   "cell_type": "markdown",
   "id": "78f0ab8c",
   "metadata": {},
   "source": [
    "# Conclusion\n",
    "\n",
    "On a ainsi un modèle fonctionnel dont la taille en mémoire est très inférieure à celle du modèle de base. Les erformances prédictives du modèle sont équivalentes (si on choisit l'option `float16`) au prix d'un temps d'inférence très supérieur (environ 10 fois plus long de réaliser un inférence avec ce modèle). Mais dans l'absolu cette contrainte n'est pas problématique car le temps d'inférence restera de toute manière bien inférieure à l'overhead du reste de l'application. "
   ]
  }
 ],
 "metadata": {
  "kernelspec": {
   "display_name": "AI_env_P7_gpu",
   "language": "python",
   "name": "python3"
  },
  "language_info": {
   "codemirror_mode": {
    "name": "ipython",
    "version": 3
   },
   "file_extension": ".py",
   "mimetype": "text/x-python",
   "name": "python",
   "nbconvert_exporter": "python",
   "pygments_lexer": "ipython3",
   "version": "3.10.18"
  }
 },
 "nbformat": 4,
 "nbformat_minor": 5
}
